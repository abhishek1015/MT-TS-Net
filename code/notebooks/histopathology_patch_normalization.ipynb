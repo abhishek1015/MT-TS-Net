{
 "cells": [
  {
   "cell_type": "code",
   "execution_count": 1,
   "id": "choice-prayer",
   "metadata": {},
   "outputs": [
    {
     "name": "stdout",
     "output_type": "stream",
     "text": [
      "Populating the interactive namespace from numpy and matplotlib\n"
     ]
    }
   ],
   "source": [
    "%pylab inline"
   ]
  },
  {
   "cell_type": "code",
   "execution_count": 2,
   "id": "modern-avenue",
   "metadata": {},
   "outputs": [],
   "source": [
    "import matplotlib as mlp\n",
    "import matplotlib.pyplot as plt\n",
    "import matplotlib.image as mpimg\n",
    "\n",
    "mpl.rcParams['figure.figsize'] = [15,15]\n",
    "\n",
    "def visualize_patchs(patches):\n",
    "    patches = patches.permute(0, 2, 3, 1)\n",
    "    patches = (patches - patches.min().item())/patches.max().item()\n",
    "    plt.subplot(141)\n",
    "    plt.imshow(patches[0])\n",
    "    plt.subplot(142)\n",
    "    plt.imshow(patches[1])\n",
    "    plt.subplot(143)\n",
    "    plt.imshow(patches[2])\n",
    "    plt.subplot(144)\n",
    "    plt.imshow(patches[3])\n",
    "    \n",
    "def visualize_gray_patchs(patches):\n",
    "    patches = patches - torch.min(batch['image'])\n",
    "    patches = patches/torch.max(batch['image'])\n",
    "    patches = patches.permute(0, 2, 3, 1)\n",
    "    plt.subplot(141)\n",
    "    plt.imshow(patches[0]*255, cmap='gray', vmin=0, vmax=255)\n",
    "    plt.subplot(142)\n",
    "    plt.imshow(patches[1]*255, cmap='gray', vmin=0, vmax=255)\n",
    "    plt.subplot(143)\n",
    "    plt.imshow(patches[2]*255, cmap='gray', vmin=0, vmax=255)\n",
    "    plt.subplot(144)\n",
    "    plt.imshow(patches[3]*255, cmap='gray', vmin=0, vmax=255)"
   ]
  },
  {
   "cell_type": "code",
   "execution_count": null,
   "id": "nervous-hopkins",
   "metadata": {},
   "outputs": [],
   "source": [
    "from svsdata import SVSData\n",
    "import torch\n",
    "from torch.utils.data import Dataset, DataLoader\n",
    "import pandas as pd\n",
    "import os\n",
    "\n",
    "os.environ[\"SLURM_JOB_ID\"] = '22550998'\n",
    "\n",
    "dataset_csv='data/tcga-brca/casewise_linked_data.csv'\n",
    "seg_dir = '/data/Jiang_Lab/Data/tcga-brca-segmentations/'\n",
    "mpp=0.5\n",
    "patch_size=224\n",
    "batch_size=16\n",
    "num_patch=8\n",
    "num_workers=16\n",
    "color_norm=True\n",
    "num_img_channel=3\n",
    "stat_norm_scheme='pretrained'\n",
    "duration_quantiles=[]\n",
    "reference_patch='None'\n",
    "\n",
    "dataset = pd.read_csv(dataset_csv, delimiter=',')\n",
    "\n",
    "input_data = SVSData(dataset, seg_dir, 0.5, patch_size, num_patch, num_workers, color_norm, stat_norm_scheme, duration_quantiles, True, False, True)\n",
    "train_loader = torch.utils.data.DataLoader(input_data,batch_size=1, shuffle=True)\n",
    "\n",
    "data_iter = iter(train_loader)\n",
    "\n",
    "for i in range(8):\n",
    "    figure(i)\n",
    "    batch = next(data_iter)\n",
    "    visualize_patchs(batch['image'].squeeze(0))"
   ]
  },
  {
   "cell_type": "code",
   "execution_count": null,
   "id": "345a1ad6",
   "metadata": {},
   "outputs": [],
   "source": [
    "mpl.rcParams['figure.figsize'] = [15,15]\n",
    "xx = torch.load('reference_patch_' + os.environ[\"SLURM_JOB_ID\"] + '.pkl')\n",
    "xx = xx-torch.min(xx)\n",
    "xx = xx/torch.max(xx)\n",
    "xx=xx.permute(1, 2, 0)\n",
    "xx.shape\n",
    "plt.imshow(xx)"
   ]
  },
  {
   "cell_type": "code",
   "execution_count": null,
   "id": "2a1adf3b",
   "metadata": {},
   "outputs": [],
   "source": [
    "input_data_test = SVSData(dataset, seg_dir, 0.5, patch_size, 4, num_workers, color_norm, stat_norm_scheme, duration_quantiles, True, False, True)\n",
    "train_loader = torch.utils.data.DataLoader(input_data_test,batch_size=1, shuffle=True)\n",
    "\n",
    "data_iter = iter(train_loader)\n",
    "\n",
    "for i in range(16):\n",
    "    figure(i)\n",
    "    batch = next(data_iter)\n",
    "    visualize_patchs(batch['image'].squeeze(0))"
   ]
  }
 ],
 "metadata": {
  "kernelspec": {
   "display_name": "Python 3 (ipykernel)",
   "language": "python",
   "name": "python3"
  },
  "language_info": {
   "codemirror_mode": {
    "name": "ipython",
    "version": 3
   },
   "file_extension": ".py",
   "mimetype": "text/x-python",
   "name": "python",
   "nbconvert_exporter": "python",
   "pygments_lexer": "ipython3",
   "version": "3.8.12"
  }
 },
 "nbformat": 4,
 "nbformat_minor": 5
}
